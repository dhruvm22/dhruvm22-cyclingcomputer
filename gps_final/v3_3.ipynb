{
 "cells": [
  {
   "cell_type": "code",
   "execution_count": 3,
   "id": "f7c7ca81",
   "metadata": {},
   "outputs": [],
   "source": [
    "import osmium\n",
    "import csv\n",
    "from geopy.distance import geodesic\n"
   ]
  },
  {
   "cell_type": "code",
   "execution_count": 2,
   "id": "7aca0c70",
   "metadata": {},
   "outputs": [],
   "source": [
    "\n",
    "MIN_DISTANCE = 20 # meters for sampling way nodes\n"
   ]
  },
  {
   "cell_type": "code",
   "execution_count": 3,
   "id": "2d59a16e",
   "metadata": {},
   "outputs": [],
   "source": [
    "\n",
    "class NamedOnlyHandler(osmium.SimpleHandler):\n",
    "    def __init__(self, outfile):\n",
    "        super().__init__()\n",
    "        self.writer = csv.writer(open(outfile, \"w\", newline=\"\"))\n",
    "        self.writer.writerow([\"lat\", \"lon\", \"name\"])  # header\n",
    "\n",
    "    def node(self, n):\n",
    "        name = n.tags.get(\"name\")\n",
    "        if name:\n",
    "            self.writer.writerow([int(n.location.lat*1e6), int(n.location.lon*1e6), name])\n",
    "\n",
    "    def way(self, w):\n",
    "        name = w.tags.get(\"name\")\n",
    "        if name:\n",
    "            last_point = None\n",
    "            for n in w.nodes:\n",
    "                lat, lon = n.lat, n.lon\n",
    "                if last_point is None or geodesic((last_point[0], last_point[1]), (lat, lon)).meters >= MIN_DISTANCE:\n",
    "                    self.writer.writerow([int(lat*1e6), int(lon*1e6), name])\n",
    "                    last_point = (lat, lon)"
   ]
  },
  {
   "cell_type": "code",
   "execution_count": 4,
   "id": "d136df2f",
   "metadata": {},
   "outputs": [],
   "source": [
    "\n",
    "handler = NamedOnlyHandler(\"saved_csv/p7.csv\")\n"
   ]
  },
  {
   "cell_type": "code",
   "execution_count": 5,
   "id": "fb1d2e51",
   "metadata": {},
   "outputs": [],
   "source": [
    "handler.apply_file(\"kanpur.osm.pbf\", locations=True, idx=\"sparse_mem_array\")\n"
   ]
  },
  {
   "cell_type": "code",
   "execution_count": null,
   "id": "346a22b0",
   "metadata": {},
   "outputs": [],
   "source": [
    "# sort according to latitudes"
   ]
  },
  {
   "cell_type": "code",
   "execution_count": 5,
   "id": "f7a07886",
   "metadata": {},
   "outputs": [
    {
     "name": "stdout",
     "output_type": "stream",
     "text": [
      "Sorted 108553 records by latitude → p7_sorted.csv\n"
     ]
    }
   ],
   "source": [
    "\n",
    "input_file = \"p7.csv\"\n",
    "output_file = \"p7_sorted.csv\"\n",
    "\n",
    "rows = []\n",
    "header = None\n",
    "\n",
    "# Read the file\n",
    "with open(input_file, newline='') as f:\n",
    "    reader = csv.reader(f)\n",
    "    header = next(reader, None)   # read and skip header row\n",
    "    for row in reader:\n",
    "        if not row:\n",
    "            continue\n",
    "        lat = int(row[0])   # microdegrees as integer\n",
    "        lon = int(row[1])\n",
    "        name = row[2]\n",
    "        rows.append((lat, lon, name))\n",
    "\n",
    "# Sort by latitude\n",
    "rows.sort(key=lambda x: x[0])\n",
    "\n",
    "# Write back with header\n",
    "with open(output_file, \"w\", newline='') as f:\n",
    "    writer = csv.writer(f)\n",
    "    if header:\n",
    "        writer.writerow(header)\n",
    "    for lat, lon, name in rows:\n",
    "        writer.writerow([lat, lon, name])\n",
    "\n",
    "print(f\"Sorted {len(rows)} records by latitude → {output_file}\")\n"
   ]
  }
 ],
 "metadata": {
  "kernelspec": {
   "display_name": "gps",
   "language": "python",
   "name": "python3"
  },
  "language_info": {
   "codemirror_mode": {
    "name": "ipython",
    "version": 3
   },
   "file_extension": ".py",
   "mimetype": "text/x-python",
   "name": "python",
   "nbconvert_exporter": "python",
   "pygments_lexer": "ipython3",
   "version": "3.13.5"
  }
 },
 "nbformat": 4,
 "nbformat_minor": 5
}
