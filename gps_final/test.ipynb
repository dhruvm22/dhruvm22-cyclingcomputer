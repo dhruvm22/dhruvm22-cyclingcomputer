{
 "cells": [
  {
   "cell_type": "code",
   "execution_count": null,
   "id": "ca776825",
   "metadata": {},
   "outputs": [],
   "source": [
    "import csv\n",
    "from math import radians, sin, cos, sqrt, atan2\n",
    "import time\n",
    "import bisect\n",
    "\n",
    "\n",
    "import csv\n",
    "from math import radians, sin, cos, sqrt, atan2\n",
    "from scipy.spatial import KDTree\n"
   ]
  },
  {
   "cell_type": "code",
   "execution_count": 3,
   "id": "9e99d060",
   "metadata": {},
   "outputs": [],
   "source": [
    "\n",
    "# --- Haversine distance function ---\n",
    "def haversine(lat1, lon1, lat2, lon2):\n",
    "    R = 6371000  # Earth radius in meters\n",
    "    dLat = radians(lat2 - lat1)\n",
    "    dLon = radians(lon2 - lon1)\n",
    "    lat1 = radians(lat1)\n",
    "    lat2 = radians(lat2)\n",
    "\n",
    "    a = sin(dLat/2)**2 + cos(lat1)*cos(lat2)*sin(dLon/2)**2\n",
    "    c = 2 * atan2(sqrt(a), sqrt(1-a))\n",
    "    return R * c\n",
    "\n",
    "# --- Load CSV ---\n"
   ]
  },
  {
   "cell_type": "code",
   "execution_count": 197,
   "id": "f34d409d",
   "metadata": {},
   "outputs": [],
   "source": [
    "entries1 = []\n",
    "with open(\"p7.csv\", \"r\") as f:\n",
    "    reader = csv.reader(f)\n",
    "    next(reader)  # skip header\n",
    "    for row in reader:\n",
    "        lat = int(row[0]) / 1e6\n",
    "        lon = int(row[1]) / 1e6\n",
    "        name = row[2]\n",
    "        entries1.append((lat, lon, name))\n",
    "\n",
    "entries2 = []\n",
    "\n",
    "with open(\"p7_sorted.csv\", \"r\") as f:\n",
    "    reader = csv.reader(f)\n",
    "    next(reader)  # skip header\n",
    "    for row in reader:\n",
    "        lat = int(row[0]) / 1e6\n",
    "        lon = int(row[1]) / 1e6\n",
    "        name = row[2]\n",
    "        entries2.append((lat, lon, name))\n",
    "\n",
    "entries3 = []   # (lat, lon, name)\n",
    "coords = []    # (lat, lon) only for KDTree\n",
    "with open(\"p7.csv\", newline=\"\", encoding=\"utf-8\") as f:\n",
    "    reader = csv.reader(f)\n",
    "    next(reader)  # skip header\n",
    "    for row in reader:\n",
    "        name = row[2]\n",
    "        lat = float(row[0]) / 1e6   # adjust scaling\n",
    "        lon = float(row[1]) / 1e6\n",
    "        entries3.append((lat, lon, name))\n",
    "        coords.append((lat, lon))\n",
    "\n",
    "        \n"
   ]
  },
  {
   "cell_type": "code",
   "execution_count": 9,
   "id": "079c40a9",
   "metadata": {},
   "outputs": [],
   "source": [
    "\n",
    "# --- Function to find nearest place ---\n",
    "def find_nearest(lat_gps, lon_gps):\n",
    "    min_dist = float('inf')\n",
    "    nearest_name = None\n",
    "    for lat, lon, name in entries1:\n",
    "        d = haversine(lat_gps, lon_gps, lat, lon)\n",
    "        if d < min_dist:\n",
    "            min_dist = d\n",
    "            nearest_name = name\n",
    "    return nearest_name, min_dist\n"
   ]
  },
  {
   "cell_type": "code",
   "execution_count": 164,
   "id": "3029169a",
   "metadata": {},
   "outputs": [],
   "source": [
    "lats = [lat for lat, _, _ in entries2]\n",
    "\n",
    "def find_nearest_bin(lat_gps, lon_gps):\n",
    "    # Extract only latitudes for binary search\n",
    "\n",
    "    # Position to insert given latitude\n",
    "    idx = bisect.bisect_left(lats, lat_gps)\n",
    "\n",
    "    # Define search window (e.g., 0.5° latitude ≈ 55 km)\n",
    "    delta = 0.005\n",
    "    lat_min, lat_max = lat_gps - delta, lat_gps + delta\n",
    "\n",
    "    # Find bounds in sorted array\n",
    "    lo = bisect.bisect_left(lats, lat_min)\n",
    "    hi = bisect.bisect_right(lats, lat_max)\n",
    "\n",
    "    print(f\"Searching between indices {lo} and {hi} out of {len(entries2)} entries\")\n",
    "\n",
    "    # Search only inside this range\n",
    "    min_dist = float('inf')\n",
    "    nearest_name = None\n",
    "    for lat, lon, name in entries2[lo:hi]:\n",
    "        d = haversine(lat_gps, lon_gps, lat, lon)\n",
    "        if d < min_dist:\n",
    "            min_dist = d\n",
    "            nearest_name = name\n",
    "\n",
    "    return nearest_name, min_dist"
   ]
  },
  {
   "cell_type": "code",
   "execution_count": 198,
   "id": "40d94a92",
   "metadata": {},
   "outputs": [],
   "source": [
    "def find_nearest_kd(lat_gps, lon_gps):\n",
    "    # Query nearest neighbor (by Euclidean distance in lat/lon space)\n",
    "    dist, idx = tree.query((lat_gps, lon_gps), k=1)\n",
    "    \n",
    "    # Extract nearest point\n",
    "    lat, lon, name = entries3[idx]\n",
    "    \n",
    "    # Correct distance with haversine\n",
    "    d_m = haversine(lat_gps, lon_gps, lat, lon)\n",
    "    \n",
    "    return name, d_m"
   ]
  },
  {
   "cell_type": "code",
   "execution_count": 183,
   "id": "7a56ef93",
   "metadata": {},
   "outputs": [
    {
     "name": "stdout",
     "output_type": "stream",
     "text": [
      "Searching between indices 66687 and 68130 out of 108553 entries\n",
      "Nearest named place: Hall of Residence for Girls 1 (0.9 meters away)\n"
     ]
    }
   ],
   "source": [
    "\n",
    "gps_lat, gps_lon = 26.506447, 80.232849\n",
    "\n",
    "\n",
    "\n",
    "nearest_name, distance_m = find_nearest_bin(gps_lat, gps_lon)\n",
    "print(f\"Nearest named place: {nearest_name} ({distance_m:.1f} meters away)\")\n"
   ]
  },
  {
   "cell_type": "code",
   "execution_count": 224,
   "id": "718c9196",
   "metadata": {},
   "outputs": [],
   "source": [
    "tree = KDTree(coords)\n"
   ]
  },
  {
   "cell_type": "code",
   "execution_count": 228,
   "id": "ed06e8fd",
   "metadata": {},
   "outputs": [
    {
     "name": "stdout",
     "output_type": "stream",
     "text": [
      "Searching between indices 66687 and 68130 out of 108553 entries\n",
      "[With bisect]   Hall of Residence for Girls 1 (0.9 m)  → 1.576 ms\n",
      "[Full scan]    Hall of Residence for Girls 1 (0.9 m)  → 10.254 ms\n",
      "[With KDTree]  Hall of Residence for Girls 1 (0.9 m)  → 0.320 ms\n"
     ]
    }
   ],
   "source": [
    "start1 = time.perf_counter()\n",
    "name1, d1 = find_nearest_bin(gps_lat, gps_lon)\n",
    "end1 = time.perf_counter()\n",
    "\n",
    "start2 = time.perf_counter()\n",
    "name2, d2 = find_nearest(gps_lat, gps_lon)\n",
    "end2 = time.perf_counter()\n",
    "\n",
    "start3 = time.perf_counter()\n",
    "name3, d3 = find_nearest_kd(gps_lat, gps_lon)\n",
    "end3 = time.perf_counter()\n",
    "\n",
    "print(f\"[With bisect]   {name1} ({d1:.1f} m)  → {(end1-start1)*1000:.3f} ms\")\n",
    "print(f\"[Full scan]    {name2} ({d2:.1f} m)  → {(end2-start2)*1000:.3f} ms\")\n",
    "print(f\"[With KDTree]  {name3} ({d3:.1f} m)  → {(end3-start3)*1000:.3f} ms\")"
   ]
  }
 ],
 "metadata": {
  "kernelspec": {
   "display_name": "gps",
   "language": "python",
   "name": "python3"
  },
  "language_info": {
   "codemirror_mode": {
    "name": "ipython",
    "version": 3
   },
   "file_extension": ".py",
   "mimetype": "text/x-python",
   "name": "python",
   "nbconvert_exporter": "python",
   "pygments_lexer": "ipython3",
   "version": "3.13.5"
  }
 },
 "nbformat": 4,
 "nbformat_minor": 5
}
