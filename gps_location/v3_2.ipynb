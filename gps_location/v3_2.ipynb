{
 "cells": [
  {
   "cell_type": "code",
   "execution_count": 2,
   "id": "dab9564d",
   "metadata": {},
   "outputs": [],
   "source": [
    "import osmium\n",
    "import csv\n",
    "from geopy.distance import geodesic\n"
   ]
  },
  {
   "cell_type": "code",
   "execution_count": null,
   "id": "fea3d54a",
   "metadata": {},
   "outputs": [],
   "source": [
    "\n",
    "MIN_DISTANCE = 50  # meters for ways\n"
   ]
  },
  {
   "cell_type": "code",
   "execution_count": 4,
   "id": "83cbc82c",
   "metadata": {},
   "outputs": [],
   "source": [
    "\n",
    "class NamedHandler(osmium.SimpleHandler):\n",
    "    def __init__(self, outfile):\n",
    "        super().__init__()\n",
    "        self.writer = csv.writer(open(outfile, \"w\", newline=\"\"))\n",
    "        self.writer.writerow([\"name\", \"lat\", \"lon\"])\n",
    "\n",
    "    def node(self, n):\n",
    "        # Node with a name\n",
    "        name = n.tags.get(\"name\")\n",
    "        if name:\n",
    "            self.writer.writerow([name, int(n.location.lat*1e6), int(n.location.lon*1e6)])\n",
    "\n",
    "    def way(self, w):\n",
    "        # Way with a name\n",
    "        name = w.tags.get(\"name\")\n",
    "        if name:\n",
    "            last_point = None\n",
    "            for n in w.nodes:\n",
    "                lat, lon = n.lat, n.lon\n",
    "                if last_point is None or geodesic((last_point[0], last_point[1]), (lat, lon)).meters >= MIN_DISTANCE:\n",
    "                    self.writer.writerow([name, int(lat*1e6), int(lon*1e6)])\n",
    "                    last_point = (lat, lon)\n"
   ]
  },
  {
   "cell_type": "code",
   "execution_count": 7,
   "id": "3b6bf9d6",
   "metadata": {},
   "outputs": [],
   "source": [
    "\n",
    "handler = NamedHandler(\"saved_csv/p3_named_everything.csv\")\n",
    "handler.apply_file(\"kanpur_pois.pbf\", locations=True)\n"
   ]
  }
 ],
 "metadata": {
  "kernelspec": {
   "display_name": "gps",
   "language": "python",
   "name": "python3"
  },
  "language_info": {
   "codemirror_mode": {
    "name": "ipython",
    "version": 3
   },
   "file_extension": ".py",
   "mimetype": "text/x-python",
   "name": "python",
   "nbconvert_exporter": "python",
   "pygments_lexer": "ipython3",
   "version": "3.13.5"
  }
 },
 "nbformat": 4,
 "nbformat_minor": 5
}
