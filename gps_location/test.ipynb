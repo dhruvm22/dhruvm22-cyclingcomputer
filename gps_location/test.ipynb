{
 "cells": [
  {
   "cell_type": "code",
   "execution_count": 1,
   "id": "ca776825",
   "metadata": {},
   "outputs": [],
   "source": [
    "import csv\n",
    "from math import radians, sin, cos, sqrt, atan2\n"
   ]
  },
  {
   "cell_type": "code",
   "execution_count": 2,
   "id": "9e99d060",
   "metadata": {},
   "outputs": [],
   "source": [
    "\n",
    "# --- Haversine distance function ---\n",
    "def haversine(lat1, lon1, lat2, lon2):\n",
    "    R = 6371000  # Earth radius in meters\n",
    "    dLat = radians(lat2 - lat1)\n",
    "    dLon = radians(lon2 - lon1)\n",
    "    lat1 = radians(lat1)\n",
    "    lat2 = radians(lat2)\n",
    "\n",
    "    a = sin(dLat/2)**2 + cos(lat1)*cos(lat2)*sin(dLon/2)**2\n",
    "    c = 2 * atan2(sqrt(a), sqrt(1-a))\n",
    "    return R * c\n",
    "\n",
    "# --- Load CSV ---\n"
   ]
  },
  {
   "cell_type": "code",
   "execution_count": 3,
   "id": "f34d409d",
   "metadata": {},
   "outputs": [],
   "source": [
    "entries = []\n",
    "with open(\"saved_csv/p6.csv\", \"r\") as f:\n",
    "    reader = csv.reader(f)\n",
    "    next(reader)  # skip header\n",
    "    for row in reader:\n",
    "        lat = int(row[0]) / 1e6\n",
    "        lon = int(row[1]) / 1e6\n",
    "        name = row[2]\n",
    "        entries.append((lat, lon, name))\n",
    "        \n"
   ]
  },
  {
   "cell_type": "code",
   "execution_count": 5,
   "id": "079c40a9",
   "metadata": {},
   "outputs": [],
   "source": [
    "\n",
    "# --- Function to find nearest place ---\n",
    "def find_nearest(lat_gps, lon_gps):\n",
    "    min_dist = float('inf')\n",
    "    nearest_name = None\n",
    "    for lat, lon, name in entries:\n",
    "        d = haversine(lat_gps, lon_gps, lat, lon)\n",
    "        if d < min_dist:\n",
    "            min_dist = d\n",
    "            nearest_name = name\n",
    "    return nearest_name, min_dist\n"
   ]
  },
  {
   "cell_type": "code",
   "execution_count": 10,
   "id": "7a56ef93",
   "metadata": {},
   "outputs": [
    {
     "name": "stdout",
     "output_type": "stream",
     "text": [
      "Nearest named place: Kendriya Vidyalaya (47.8 meters away)\n"
     ]
    }
   ],
   "source": [
    "\n",
    "# --- Test ---\n",
    "gps_lat, gps_lon = 26.507805, 80.237053\n",
    "\n",
    "nearest_name, distance_m = find_nearest(gps_lat, gps_lon)\n",
    "print(f\"Nearest named place: {nearest_name} ({distance_m:.1f} meters away)\")\n"
   ]
  }
 ],
 "metadata": {
  "kernelspec": {
   "display_name": "gps",
   "language": "python",
   "name": "python3"
  },
  "language_info": {
   "codemirror_mode": {
    "name": "ipython",
    "version": 3
   },
   "file_extension": ".py",
   "mimetype": "text/x-python",
   "name": "python",
   "nbconvert_exporter": "python",
   "pygments_lexer": "ipython3",
   "version": "3.13.5"
  }
 },
 "nbformat": 4,
 "nbformat_minor": 5
}
