{
 "cells": [
  {
   "cell_type": "code",
   "execution_count": 1,
   "id": "edfb18bb",
   "metadata": {},
   "outputs": [],
   "source": [
    "import math\n",
    "import csv\n"
   ]
  },
  {
   "cell_type": "code",
   "execution_count": 6,
   "id": "a6a896ba",
   "metadata": {},
   "outputs": [
    {
     "name": "stdout",
     "output_type": "stream",
     "text": [
      "Grid size: 2500 x 2500 = 6250000 cells\n"
     ]
    }
   ],
   "source": [
    "\n",
    "\n",
    "# Kanpur coordinates\n",
    "KANPUR_LAT = 26.4499\n",
    "KANPUR_LON = 80.3319\n",
    "\n",
    "# Corridor size (1000 km × 1000 km)\n",
    "CORRIDOR_KM = 1000\n",
    "CELL_SIZE_KM = 0.4   # grid resolution (1 km)\n",
    "\n",
    "# Approx degrees per km (rough, valid for North India)\n",
    "DEG_PER_KM_LAT = 1 / 110.574   # latitude conversion\n",
    "DEG_PER_KM_LON = 1 / (111.320 * math.cos(math.radians(KANPUR_LAT)))\n",
    "\n",
    "# Compute grid boundaries\n",
    "lat_min = KANPUR_LAT - (CORRIDOR_KM/2) * DEG_PER_KM_LAT\n",
    "lat_max = KANPUR_LAT + (CORRIDOR_KM/2) * DEG_PER_KM_LAT\n",
    "lon_min = KANPUR_LON - (CORRIDOR_KM/2) * DEG_PER_KM_LON\n",
    "lon_max = KANPUR_LON + (CORRIDOR_KM/2) * DEG_PER_KM_LON\n",
    "\n",
    "# Number of cells\n",
    "num_lat_cells = int(CORRIDOR_KM / CELL_SIZE_KM)\n",
    "num_lon_cells = int(CORRIDOR_KM / CELL_SIZE_KM)\n",
    "\n",
    "print(f\"Grid size: {num_lat_cells} x {num_lon_cells} = {num_lat_cells*num_lon_cells} cells\")\n",
    "\n",
    "# Generate latitude/longitude step\n",
    "lat_step = CELL_SIZE_KM * DEG_PER_KM_LAT\n",
    "lon_step = CELL_SIZE_KM * DEG_PER_KM_LON\n"
   ]
  },
  {
   "cell_type": "code",
   "execution_count": null,
   "id": "c9ba008e",
   "metadata": {},
   "outputs": [],
   "source": [
    "\n",
    "# Example place name (max 10 chars)\n",
    "def generate_name(lat, lon):\n",
    "    return f\"placeholder for location\"\n",
    "\n",
    "# Save to CSV in matrix order (lat-major, then lon)\n",
    "with open(\"saved_csv/saved_grid2.csv\", \"w\", newline=\"\") as f:\n",
    "    writer = csv.writer(f)\n",
    "    writer.writerow([\"latitude\", \"longitude\", \"name\"])\n",
    "    \n",
    "    # Sweep latitude (north → south), longitude (west → east)\n",
    "    lat = lat_min\n",
    "    for i in range(num_lat_cells):\n",
    "        lon = lon_min\n",
    "        for j in range(num_lon_cells):\n",
    "            name = generate_name(lat, lon)\n",
    "            writer.writerow([round(lat, 6), round(lon, 6), name])\n",
    "            lon += lon_step\n",
    "        lat += lat_step\n"
   ]
  }
 ],
 "metadata": {
  "kernelspec": {
   "display_name": "base",
   "language": "python",
   "name": "python3"
  },
  "language_info": {
   "codemirror_mode": {
    "name": "ipython",
    "version": 3
   },
   "file_extension": ".py",
   "mimetype": "text/x-python",
   "name": "python",
   "nbconvert_exporter": "python",
   "pygments_lexer": "ipython3",
   "version": "3.11.7"
  }
 },
 "nbformat": 4,
 "nbformat_minor": 5
}
