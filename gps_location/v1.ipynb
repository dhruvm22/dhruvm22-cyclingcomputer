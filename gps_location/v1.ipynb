{
 "cells": [
  {
   "cell_type": "code",
   "execution_count": 1,
   "id": "f9b956dc",
   "metadata": {},
   "outputs": [],
   "source": [
    "import math\n",
    "import csv\n"
   ]
  },
  {
   "cell_type": "code",
   "execution_count": 2,
   "id": "58dc8730",
   "metadata": {},
   "outputs": [],
   "source": [
    "\n",
    "# Kanpur coordinates\n",
    "KANPUR_LAT = 26.507825\n",
    "KANPUR_LON = 80.226674\n"
   ]
  },
  {
   "cell_type": "code",
   "execution_count": 3,
   "id": "384e1db2",
   "metadata": {},
   "outputs": [],
   "source": [
    "\n",
    "# Corridor size (1000 km × 1000 km)\n",
    "CORRIDOR_KM = 1000\n",
    "CELL_SIZE_KM = 1   # grid resolution\n"
   ]
  },
  {
   "cell_type": "code",
   "execution_count": 4,
   "id": "19abe1a7",
   "metadata": {},
   "outputs": [],
   "source": [
    "\n",
    "# Approx degrees per km (rough, valid for North India)\n",
    "DEG_PER_KM_LAT = 1 / 110.574   # latitude conversion\n",
    "DEG_PER_KM_LON = 1 / (111.320 * math.cos(math.radians(KANPUR_LAT)))\n"
   ]
  },
  {
   "cell_type": "code",
   "execution_count": 5,
   "id": "5e0aee23",
   "metadata": {},
   "outputs": [],
   "source": [
    "\n",
    "# Compute grid boundaries\n",
    "lat_range = (KANPUR_LAT - CORRIDOR_KM*DEG_PER_KM_LAT/2,\n",
    "             KANPUR_LAT + CORRIDOR_KM*DEG_PER_KM_LAT/2)\n",
    "lon_range = (KANPUR_LON - CORRIDOR_KM*DEG_PER_KM_LON/2,\n",
    "             KANPUR_LON + CORRIDOR_KM*DEG_PER_KM_LON/2)\n"
   ]
  },
  {
   "cell_type": "code",
   "execution_count": 6,
   "id": "b73e364f",
   "metadata": {},
   "outputs": [
    {
     "name": "stdout",
     "output_type": "stream",
     "text": [
      "Grid size: 1000 x 1000 = 1000000 cells\n"
     ]
    }
   ],
   "source": [
    "\n",
    "# Number of cells\n",
    "num_lat_cells = int(CORRIDOR_KM / CELL_SIZE_KM)\n",
    "num_lon_cells = int(CORRIDOR_KM / CELL_SIZE_KM)\n",
    "\n",
    "print(f\"Grid size: {num_lat_cells} x {num_lon_cells} = {num_lat_cells*num_lon_cells} cells\")\n"
   ]
  },
  {
   "cell_type": "code",
   "execution_count": 9,
   "id": "04ac9df6",
   "metadata": {},
   "outputs": [],
   "source": [
    "\n",
    "# Example: create dummy place names (truncate to 10 chars)\n",
    "def generate_name(lat_idx, lon_idx):\n",
    "    return f\"P{lat_idx}_{lon_idx} hello \"[:10]\n",
    "\n",
    "# Save to CSV in matrix order (sorted by lat, then lon)\n",
    "with open(\"saved_csv/kanpur_grid.csv\", \"w\", newline=\"\") as f:\n",
    "    writer = csv.writer(f)\n",
    "    writer.writerow([\"lat_idx\", \"lon_idx\", \"name\"])\n",
    "    for i in range(num_lat_cells):      # row → latitude\n",
    "        for j in range(num_lon_cells):  # column → longitude\n",
    "            name = generate_name(i, j)\n",
    "            writer.writerow([i, j, name])\n"
   ]
  }
 ],
 "metadata": {
  "kernelspec": {
   "display_name": "base",
   "language": "python",
   "name": "python3"
  },
  "language_info": {
   "codemirror_mode": {
    "name": "ipython",
    "version": 3
   },
   "file_extension": ".py",
   "mimetype": "text/x-python",
   "name": "python",
   "nbconvert_exporter": "python",
   "pygments_lexer": "ipython3",
   "version": "3.11.7"
  }
 },
 "nbformat": 4,
 "nbformat_minor": 5
}
