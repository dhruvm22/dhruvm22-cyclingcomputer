{
 "cells": [
  {
   "cell_type": "code",
   "execution_count": 1,
   "id": "f7c7ca81",
   "metadata": {},
   "outputs": [],
   "source": [
    "import osmium\n",
    "import csv\n",
    "from geopy.distance import geodesic\n"
   ]
  },
  {
   "cell_type": "code",
   "execution_count": 2,
   "id": "7aca0c70",
   "metadata": {},
   "outputs": [],
   "source": [
    "\n",
    "MIN_DISTANCE = 20 # meters for sampling way nodes\n"
   ]
  },
  {
   "cell_type": "code",
   "execution_count": 3,
   "id": "2d59a16e",
   "metadata": {},
   "outputs": [],
   "source": [
    "\n",
    "class NamedOnlyHandler(osmium.SimpleHandler):\n",
    "    def __init__(self, outfile):\n",
    "        super().__init__()\n",
    "        self.writer = csv.writer(open(outfile, \"w\", newline=\"\"))\n",
    "        self.writer.writerow([\"lat\", \"lon\", \"name\"])  # header\n",
    "\n",
    "    def node(self, n):\n",
    "        name = n.tags.get(\"name\")\n",
    "        if name:\n",
    "            self.writer.writerow([int(n.location.lat*1e6), int(n.location.lon*1e6), name])\n",
    "\n",
    "    def way(self, w):\n",
    "        name = w.tags.get(\"name\")\n",
    "        if name:\n",
    "            last_point = None\n",
    "            for n in w.nodes:\n",
    "                lat, lon = n.lat, n.lon\n",
    "                if last_point is None or geodesic((last_point[0], last_point[1]), (lat, lon)).meters >= MIN_DISTANCE:\n",
    "                    self.writer.writerow([int(lat*1e6), int(lon*1e6), name])\n",
    "                    last_point = (lat, lon)"
   ]
  },
  {
   "cell_type": "code",
   "execution_count": 4,
   "id": "d136df2f",
   "metadata": {},
   "outputs": [],
   "source": [
    "\n",
    "handler = NamedOnlyHandler(\"saved_csv/p7.csv\")\n"
   ]
  },
  {
   "cell_type": "code",
   "execution_count": 5,
   "id": "fb1d2e51",
   "metadata": {},
   "outputs": [],
   "source": [
    "handler.apply_file(\"kanpur.osm.pbf\", locations=True, idx=\"sparse_mem_array\")\n"
   ]
  }
 ],
 "metadata": {
  "kernelspec": {
   "display_name": "gps",
   "language": "python",
   "name": "python3"
  },
  "language_info": {
   "codemirror_mode": {
    "name": "ipython",
    "version": 3
   },
   "file_extension": ".py",
   "mimetype": "text/x-python",
   "name": "python",
   "nbconvert_exporter": "python",
   "pygments_lexer": "ipython3",
   "version": "3.13.5"
  }
 },
 "nbformat": 4,
 "nbformat_minor": 5
}
