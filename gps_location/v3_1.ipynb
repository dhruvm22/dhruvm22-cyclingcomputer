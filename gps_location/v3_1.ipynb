{
 "cells": [
  {
   "cell_type": "code",
   "execution_count": 2,
   "id": "158bfde2",
   "metadata": {},
   "outputs": [
    {
     "name": "stdout",
     "output_type": "stream",
     "text": [
      "Collecting geojson\n",
      "  Downloading geojson-3.2.0-py3-none-any.whl.metadata (16 kB)\n",
      "Downloading geojson-3.2.0-py3-none-any.whl (15 kB)\n",
      "Installing collected packages: geojson\n",
      "Successfully installed geojson-3.2.0\n"
     ]
    }
   ],
   "source": [
    "!pip install geojson"
   ]
  },
  {
   "cell_type": "code",
   "execution_count": 4,
   "id": "4c7d2da2",
   "metadata": {},
   "outputs": [],
   "source": [
    "import geojson\n",
    "import csv"
   ]
  },
  {
   "cell_type": "code",
   "execution_count": null,
   "id": "637f5666",
   "metadata": {},
   "outputs": [],
   "source": [
    "with open(\"kanpur.geojson\") as f:\n",
    "    data = geojson.load(f)\n"
   ]
  },
  {
   "cell_type": "code",
   "execution_count": null,
   "id": "4e5a2868",
   "metadata": {},
   "outputs": [],
   "source": [
    "\n",
    "with open(\"saved_csv/roads_esp32.csv\", \"w\", newline=\"\") as out:\n",
    "    writer = csv.writer(out)\n",
    "    writer.writerow([\"road_name\", \"lat\", \"lon\"])\n",
    "\n",
    "    for feature in data[\"features\"]:\n",
    "        name = feature[\"properties\"].get(\"name\")\n",
    "        if not name:\n",
    "            continue\n",
    "        coords_list = feature[\"geometry\"][\"coordinates\"]  # list of [lon, lat] or [[lon, lat], ...]\n",
    "        # Some geometries are MultiLineString\n",
    "        if feature[\"geometry\"][\"type\"] == \"LineString\":\n",
    "            lines = [coords_list]\n",
    "        elif feature[\"geometry\"][\"type\"] == \"MultiLineString\":\n",
    "            lines = coords_list\n",
    "        else:\n",
    "            continue\n",
    "        for line in lines:\n",
    "            for lon, lat in line:\n",
    "                writer.writerow([name, lat, lon])\n"
   ]
  }
 ],
 "metadata": {
  "kernelspec": {
   "display_name": "gps",
   "language": "python",
   "name": "python3"
  },
  "language_info": {
   "codemirror_mode": {
    "name": "ipython",
    "version": 3
   },
   "file_extension": ".py",
   "mimetype": "text/x-python",
   "name": "python",
   "nbconvert_exporter": "python",
   "pygments_lexer": "ipython3",
   "version": "3.13.5"
  }
 },
 "nbformat": 4,
 "nbformat_minor": 5
}
