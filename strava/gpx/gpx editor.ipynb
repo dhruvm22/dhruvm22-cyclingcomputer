{
 "cells": [
  {
   "cell_type": "code",
   "execution_count": null,
   "id": "f1b086ea",
   "metadata": {},
   "outputs": [],
   "source": [
    "import re\n",
    "import os\n",
    "\n",
    "def remove_gpx_elevation(input_filepath, output_filepath):\n",
    "    \"\"\"\n",
    "    Reads a GPX file, removes the <ele>...</ele> tag and its content \n",
    "    using a non-greedy regular expression, and saves the cleaned data.\n",
    "    \"\"\"\n",
    "    \n",
    "    # 1. Define the input file path\n",
    "    if not os.path.exists(input_filepath):\n",
    "        print(f\"Error: Input file not found at '{input_filepath}'\")\n",
    "        return\n",
    "\n",
    "    print(f\"Reading from: {input_filepath}\")\n",
    "    \n",
    "    try:\n",
    "        # 2. Read the entire file content\n",
    "        with open(input_filepath, 'r', encoding='utf-8') as f:\n",
    "            gpx_content = f.read()\n",
    "\n",
    "        # 3. Define the regular expression pattern\n",
    "        # This pattern matches '<ele>' followed by any characters (non-greedy, '.*?')\n",
    "        # up to the closing '</ele>'. The 'flags=re.DOTALL' makes '.' match newlines,\n",
    "        # ensuring it works for both single-line and multi-line/indented files.\n",
    "        pattern = r'<ele>.*?</ele>'\n",
    "        \n",
    "        # 4. Perform the substitution\n",
    "        # It replaces the matched pattern with an empty string ('')\n",
    "        cleaned_content = re.sub(pattern, '', gpx_content, flags=re.DOTALL)\n",
    "\n",
    "        # 5. Write the cleaned content to a new file\n",
    "        with open(output_filepath, 'w', encoding='utf-8') as f:\n",
    "            f.write(cleaned_content)\n",
    "        \n",
    "        print(f\"Successfully removed <ele> tags and saved to: **{output_filepath}**\")\n",
    "        \n",
    "    except Exception as e:\n",
    "        print(f\"An error occurred: {e}\")\n",
    "\n",
    "\n",
    "# --- SETTINGS ---\n",
    "# Change this to the name of your input GPX file (e.g., \"16 oct.gpx\")\n",
    "INPUT_FILE = \"fixedgpx.gpx\" \n",
    "# Change this to the name you want for the new, cleaned file\n",
    "OUTPUT_FILE = \"no_elevation.gpx\"\n",
    "\n",
    "# Run the function\n",
    "remove_gpx_elevation(INPUT_FILE, OUTPUT_FILE)"
   ]
  }
 ],
 "metadata": {
  "kernelspec": {
   "display_name": "base",
   "language": "python",
   "name": "python3"
  },
  "language_info": {
   "name": "python",
   "version": "3.11.7"
  }
 },
 "nbformat": 4,
 "nbformat_minor": 5
}
