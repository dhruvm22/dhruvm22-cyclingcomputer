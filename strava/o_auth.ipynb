{
 "cells": [
  {
   "cell_type": "code",
   "execution_count": 1,
   "id": "b843a9b4",
   "metadata": {},
   "outputs": [],
   "source": [
    "import requests\n",
    "import json\n",
    "import datetime\n"
   ]
  },
  {
   "cell_type": "code",
   "execution_count": null,
   "id": "3eebc2de",
   "metadata": {},
   "outputs": [],
   "source": [
    "\n",
    "client_id = \"179574\"\n",
    "client_secret = \"cb9fbad5f26cc9638dc2c6dc31f883534a0ff0f3\"\n",
    "auth_code = \"b4bcb62e68bf288682ee31e3e06524342bc75a48\"   # from redirect URL\n",
    "\n",
    "url = \"https://www.strava.com/oauth/token\"\n",
    "\n",
    "payload = {\n",
    "    'client_id': client_id,\n",
    "    'client_secret': client_secret,\n",
    "    'code': auth_code,\n",
    "    'grant_type': 'authorization_code'\n",
    "}\n",
    "\n",
    "r = requests.post(url, data=payload)\n",
    "data = r.json()\n",
    "\n",
    "print(\"\\n=== Response from Strava ===\")\n",
    "print(data)\n",
    "print(\"============================\")\n",
    "\n",
    "print(\"\\nAccess Token:\", data.get('access_token'))\n",
    "print(\"Refresh Token:\", data.get('refresh_token'))\n",
    "print(\"Expires At:\", data.get('expires_at'))\n"
   ]
  },
  {
   "cell_type": "code",
   "execution_count": 2,
   "id": "0bfa01a9",
   "metadata": {},
   "outputs": [
    {
     "name": "stdout",
     "output_type": "stream",
     "text": [
      "\n",
      "=== Refreshed Tokens ===\n",
      "{'token_type': 'Bearer', 'access_token': 'a9df4b11d766bb55eb0272cf86fdda9481b23617', 'expires_at': 1759622958, 'expires_in': 15546, 'refresh_token': 'e74df5b338d5865c79162eb61c4b9b1a53198777'}\n",
      "========================\n",
      "\n",
      "New Access Token: a9df4b11d766bb55eb0272cf86fdda9481b23617\n",
      "New Refresh Token: e74df5b338d5865c79162eb61c4b9b1a53198777\n"
     ]
    }
   ],
   "source": [
    "# Use the refresh token to get a new access token\n",
    "client_id = \"179574\"\n",
    "client_secret = \"cb9fbad5f26cc9638dc2c6dc31f883534a0ff0f3\"\n",
    "refresh_token = \"e74df5b338d5865c79162eb61c4b9b1a53198777\"\n",
    "\n",
    "url = \"https://www.strava.com/oauth/token\"\n",
    "payload = {\n",
    "    'client_id': client_id,\n",
    "    'client_secret': client_secret,\n",
    "    'grant_type': 'refresh_token',\n",
    "    'refresh_token': refresh_token\n",
    "}\n",
    "\n",
    "r = requests.post(url, data=payload)\n",
    "data = r.json()\n",
    "\n",
    "print(\"\\n=== Refreshed Tokens ===\")\n",
    "print(data)\n",
    "print(\"========================\")\n",
    "\n",
    "print(\"\\nNew Access Token:\", data.get('access_token'))\n",
    "print(\"New Refresh Token:\", data.get('refresh_token'))\n"
   ]
  },
  {
   "cell_type": "code",
   "execution_count": 16,
   "id": "a3340ad0",
   "metadata": {},
   "outputs": [
    {
     "name": "stdout",
     "output_type": "stream",
     "text": [
      "{'id': 123334074, 'username': None, 'resource_state': 2, 'firstname': 'dhruv', 'lastname': 'mittal', 'bio': None, 'city': 'New Delhi', 'state': '', 'country': 'India', 'sex': 'M', 'premium': False, 'summit': False, 'created_at': '2023-08-23T12:55:00Z', 'updated_at': '2025-09-01T05:35:50Z', 'badge_type_id': 0, 'weight': 80.0, 'profile_medium': 'avatar/athlete/medium.png', 'profile': 'avatar/athlete/large.png', 'friend': None, 'follower': None}\n"
     ]
    }
   ],
   "source": [
    "# Use the access token to access the Strava API\n",
    "access_token = \"a8615d7456c7d6af4a376b523fb4ed9fa8e2815a\"\n",
    "\n",
    "r = requests.get(\"https://www.strava.com/api/v3/athlete\",\n",
    "                 headers={\"Authorization\": f\"Bearer {access_token}\"})\n",
    "\n",
    "print(r.json())\n"
   ]
  },
  {
   "cell_type": "code",
   "execution_count": 23,
   "id": "2a90d921",
   "metadata": {},
   "outputs": [
    {
     "name": "stdout",
     "output_type": "stream",
     "text": [
      "201\n",
      "{'resource_state': 3, 'athlete': {'id': 123334074, 'resource_state': 1}, 'name': 'ESP32 Ride', 'distance': 20000.0, 'moving_time': 3600, 'elapsed_time': 3600, 'total_elevation_gain': 0, 'type': 'Ride', 'sport_type': 'Ride', 'workout_type': None, 'id': 16028909862, 'start_date': '2025-10-04T05:34:34Z', 'start_date_local': '2025-10-04T11:04:34Z', 'timezone': '(GMT+05:30) Asia/Kolkata', 'utc_offset': 19800.0, 'location_city': None, 'location_state': None, 'location_country': None, 'achievement_count': 0, 'kudos_count': 0, 'comment_count': 0, 'athlete_count': 1, 'photo_count': 0, 'map': {'id': 'a16028909862', 'polyline': '', 'resource_state': 3, 'summary_polyline': ''}, 'trainer': False, 'commute': False, 'manual': True, 'private': False, 'visibility': 'everyone', 'flagged': False, 'gear_id': 'b16004961', 'start_latlng': [], 'end_latlng': [], 'average_speed': 5.556, 'max_speed': 0, 'has_heartrate': False, 'heartrate_opt_out': False, 'display_hide_heartrate_option': False, 'upload_id': None, 'external_id': None, 'from_accepted_tag': False, 'pr_count': 0, 'total_photo_count': 0, 'has_kudoed': False, 'description': 'Ride uploaded from ESP32', 'calories': 0, 'perceived_exertion': None, 'prefer_perceived_exertion': None, 'segment_efforts': [], 'gear': {'id': 'b16004961', 'primary': False, 'name': 'BA-X', 'nickname': 'BA-X', 'resource_state': 2, 'retired': False, 'distance': 218669, 'converted_distance': 218.7}, 'photos': {'primary': None, 'count': 0}, 'stats_visibility': [{'type': 'heart_rate', 'visibility': 'everyone'}, {'type': 'pace', 'visibility': 'everyone'}, {'type': 'power', 'visibility': 'everyone'}, {'type': 'speed', 'visibility': 'everyone'}, {'type': 'calories', 'visibility': 'everyone'}], 'hide_from_home': False, 'embed_token': '73d96dd331b2841c85236a4ef037ee263b5751bc', 'available_zones': []}\n"
     ]
    }
   ],
   "source": [
    "\n",
    "access_token = \"a8615d7456c7d6af4a376b523fb4ed9fa8e2815a\"\n",
    "\n",
    "url = \"https://www.strava.com/api/v3/activities\"\n",
    "\n",
    "headers = {\n",
    "    \"Authorization\": f\"Bearer {access_token}\",\n",
    "    \"Content-Type\": \"application/json\"\n",
    "}\n",
    "\n",
    "start_time = datetime.datetime.utcnow().replace(microsecond=0).isoformat() + \"Z\"\n",
    "\n",
    "\n",
    "payload = {\n",
    "    \"name\": \"ESP32 Ride\",\n",
    "    \"type\": \"Ride\",\n",
    "    \"start_date_local\": start_time,\n",
    "    \"elapsed_time\": 3600,  # total time in seconds\n",
    "    \"distance\": 20000,     # meters\n",
    "    \"description\": \"Ride uploaded from ESP32\"\n",
    "}\n",
    "\n",
    "r = requests.post(url, headers=headers, json=payload)\n",
    "\n",
    "print(r.status_code)\n",
    "print(r.json())\n"
   ]
  }
 ],
 "metadata": {
  "kernelspec": {
   "display_name": "base",
   "language": "python",
   "name": "python3"
  },
  "language_info": {
   "codemirror_mode": {
    "name": "ipython",
    "version": 3
   },
   "file_extension": ".py",
   "mimetype": "text/x-python",
   "name": "python",
   "nbconvert_exporter": "python",
   "pygments_lexer": "ipython3",
   "version": "3.11.7"
  }
 },
 "nbformat": 4,
 "nbformat_minor": 5
}
